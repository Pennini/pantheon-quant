{
 "cells": [
  {
   "cell_type": "code",
   "execution_count": null,
   "id": "e3efc514",
   "metadata": {},
   "outputs": [],
   "source": [
    "import yfinance as yf\n",
    "import time\n",
    "import warnings\n",
    "warnings.filterwarnings(\"ignore\")\n",
    "\n",
    "\n",
    "import sys, os\n",
    "sys.path.append(os.path.abspath(\"..\"))\n",
    "\n",
    "from pantheon.config import RAW_DATA_DIR, TICKERS, START_DATE, END_DATE"
   ]
  },
  {
   "cell_type": "code",
   "execution_count": null,
   "id": "8f22e922",
   "metadata": {},
   "outputs": [
    {
     "name": "stderr",
     "output_type": "stream",
     "text": [
      "[*********************100%***********************]  1 of 1 completed"
     ]
    },
    {
     "name": "stdout",
     "output_type": "stream",
     "text": [
      "📥 Downloading data for BBAS3.SA...\n",
      "✅ Data for BBAS3.SA saved to: C:\\Users\\User\\Documents\\GitHub\\pantheon-quant\\data\\raw\\stocks_rawdata_10y\\BBAS3.csv\n",
      "\n"
     ]
    },
    {
     "name": "stderr",
     "output_type": "stream",
     "text": [
      "\n"
     ]
    },
    {
     "ename": "KeyboardInterrupt",
     "evalue": "",
     "output_type": "error",
     "traceback": [
      "\u001b[1;31m---------------------------------------------------------------------------\u001b[0m",
      "\u001b[1;31mKeyboardInterrupt\u001b[0m                         Traceback (most recent call last)",
      "Cell \u001b[1;32mIn[8], line 52\u001b[0m\n\u001b[0;32m     48\u001b[0m     df\u001b[38;5;241m.\u001b[39mto_csv(filepath, index\u001b[38;5;241m=\u001b[39m\u001b[38;5;28;01mFalse\u001b[39;00m)\n\u001b[0;32m     50\u001b[0m     \u001b[38;5;28mprint\u001b[39m(\u001b[38;5;124mf\u001b[39m\u001b[38;5;124m\"\u001b[39m\u001b[38;5;124m✅ Data for \u001b[39m\u001b[38;5;132;01m{\u001b[39;00mticker\u001b[38;5;132;01m}\u001b[39;00m\u001b[38;5;124m saved to: \u001b[39m\u001b[38;5;132;01m{\u001b[39;00mfilepath\u001b[38;5;132;01m}\u001b[39;00m\u001b[38;5;130;01m\\n\u001b[39;00m\u001b[38;5;124m\"\u001b[39m)\n\u001b[1;32m---> 52\u001b[0m     \u001b[43mtime\u001b[49m\u001b[38;5;241;43m.\u001b[39;49m\u001b[43msleep\u001b[49m\u001b[43m(\u001b[49m\u001b[38;5;241;43m5\u001b[39;49m\u001b[43m)\u001b[49m\n\u001b[0;32m     54\u001b[0m \u001b[38;5;28;01mexcept\u001b[39;00m \u001b[38;5;167;01mException\u001b[39;00m \u001b[38;5;28;01mas\u001b[39;00m e:\n\u001b[0;32m     55\u001b[0m     \u001b[38;5;28mprint\u001b[39m(\u001b[38;5;124mf\u001b[39m\u001b[38;5;124m\"\u001b[39m\u001b[38;5;124m❌ Failed to download \u001b[39m\u001b[38;5;132;01m{\u001b[39;00mticker\u001b[38;5;132;01m}\u001b[39;00m\u001b[38;5;124m: \u001b[39m\u001b[38;5;132;01m{\u001b[39;00me\u001b[38;5;132;01m}\u001b[39;00m\u001b[38;5;130;01m\\n\u001b[39;00m\u001b[38;5;124m\"\u001b[39m)\n",
      "\u001b[1;31mKeyboardInterrupt\u001b[0m: "
     ]
    }
   ],
   "source": [
    "# Create the main output directory\n",
    "output_dir = \"tech_rawdata\"\n",
    "os.makedirs(RAW_DATA_DIR / output_dir, exist_ok=True)\n",
    "\n",
    "\n",
    "# Função para limpar ticker\n",
    "def clean_ticker(ticker):\n",
    "    return ticker.replace(\".SA\", \"\").upper()\n",
    "\n",
    "# Loop por ticker\n",
    "for ticker in TICKERS:\n",
    "    try:\n",
    "        print(f\"📥 Downloading data for {ticker}...\")\n",
    "\n",
    "        # Download com yfinance\n",
    "        df = yf.download(ticker, start=START_DATE, end=END_DATE, interval=\"1d\")\n",
    "\n",
    "        if df.empty:\n",
    "            print(f\"⚠️ No data found for {ticker}. Skipping.\\n\")\n",
    "            continue\n",
    "\n",
    "        # Resetar índice (Date vira coluna)\n",
    "        df.reset_index(inplace=True)\n",
    "\n",
    "        # Se houver MultiIndex nas colunas, achatar\n",
    "        df.columns = [\n",
    "            '_'.join(col).strip() if isinstance(col, tuple) else col\n",
    "            for col in df.columns\n",
    "        ]\n",
    "\n",
    "        # Remover o ticker e o \".SA\" dos nomes das colunas\n",
    "        df.columns = [\n",
    "            col.replace(f\"_{ticker}\", \"\").replace(\".SA\", \"\")\n",
    "            for col in df.columns\n",
    "        ]\n",
    "\n",
    "        # Corrigir o nome da coluna Date_\n",
    "        df.columns = [col.replace(\"Date_\", \"Date\") for col in df.columns]\n",
    "\n",
    "        # Caminho do arquivo CSV\n",
    "        filepath = RAW_DATA_DIR / output_dir / f\"{ticker.replace('.SA','')}.csv\"\n",
    "\n",
    "        # Salvar CSV\n",
    "        df.to_csv(filepath, index=False)\n",
    "\n",
    "        print(f\"✅ Data for {ticker} saved to: {filepath}\\n\")\n",
    "\n",
    "        time.sleep(5)\n",
    "\n",
    "    except Exception as e:\n",
    "        print(f\"❌ Failed to download {ticker}: {e}\\n\")\n",
    "\n",
    "print(\"\\n🏁 Done! All files have been successfully generated.\")\n"
   ]
  }
 ],
 "metadata": {
  "kernelspec": {
   "display_name": "Python 3",
   "language": "python",
   "name": "python3"
  },
  "language_info": {
   "codemirror_mode": {
    "name": "ipython",
    "version": 3
   },
   "file_extension": ".py",
   "mimetype": "text/x-python",
   "name": "python",
   "nbconvert_exporter": "python",
   "pygments_lexer": "ipython3",
   "version": "3.11.3"
  }
 },
 "nbformat": 4,
 "nbformat_minor": 5
}
